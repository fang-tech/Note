{
 "cells": [
  {
   "cell_type": "code",
   "execution_count": null,
   "id": "2f700907",
   "metadata": {},
   "outputs": [],
   "source": [
    "from pyspark.sql import SparkSession\n",
    "\n",
    "spark = SparkSession.builder.appName(\"demo\").getOrCreate()"
   ]
  },
  {
   "cell_type": "code",
   "execution_count": null,
   "id": "157d32a9",
   "metadata": {},
   "outputs": [],
   "source": [
    "itemsSchema = (\"id integer, name string, price float\")\n",
    "ordersSchema=(\"id integer, itemid integer, count integer\")\n",
    "items = spark.createDataFrame([[0, \"Tomato\", 2.0], \\\n",
    "                               [1, \"Watermelon\", 5.5], \\\n",
    "                               [2, \"pineapple\", 7.0]], \\\n",
    "                              schema=itemsSchema)\n",
    "orders = spark.createDataFrame([[100, 0, 1], \\\n",
    "                                [100, 1, 1], \\\n",
    "                                [101, 2, 3], \\\n",
    "                                [102,2,8]],\\\n",
    "                               schema=ordersSchema)"
   ]
  }
 ],
 "metadata": {
  "language_info": {
   "name": "python"
  }
 },
 "nbformat": 4,
 "nbformat_minor": 5
}
